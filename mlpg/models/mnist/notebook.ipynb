{
 "cells": [
  {
   "attachments": {},
   "cell_type": "markdown",
   "metadata": {},
   "source": [
    "Let's load the MNIST dataset. We would need to install the `torchvision` package (e.g, `pip install torchvision`), additionally to the `torch` package"
   ]
  },
  {
   "cell_type": "code",
   "execution_count": 11,
   "metadata": {},
   "outputs": [],
   "source": [
    "import torch\n",
    "from torch import nn\n",
    "from torch.utils.data import DataLoader\n",
    "from torchvision import datasets\n",
    "from torchvision.transforms import ToTensor\n",
    "from matplotlib import pyplot as plt\n"
   ]
  },
  {
   "cell_type": "code",
   "execution_count": 12,
   "metadata": {},
   "outputs": [],
   "source": [
    "# Download training data from open datasets.\n",
    "train_data = datasets.MNIST(\n",
    "    root='data',\n",
    "    train=True,\n",
    "    download=True,\n",
    "    transform=ToTensor(),\n",
    ")\n",
    "\n",
    "# Download test data from open datasets.\n",
    "test_data = datasets.MNIST(\n",
    "    root='data',\n",
    "    train=False,\n",
    "    download=True,\n",
    "    transform=ToTensor(),\n",
    ")"
   ]
  },
  {
   "attachments": {},
   "cell_type": "markdown",
   "metadata": {},
   "source": [
    "Let's code a function that draws an image from the training dataset"
   ]
  },
  {
   "cell_type": "code",
   "execution_count": 13,
   "metadata": {},
   "outputs": [],
   "source": [
    "def draw(dataset, idx: int) -> None:\n",
    "    plt.title(f'label: {dataset.targets[idx].item()}')\n",
    "    plt.imshow(dataset.data[idx].int())"
   ]
  },
  {
   "cell_type": "code",
   "execution_count": 14,
   "metadata": {},
   "outputs": [
    {
     "data": {
      "image/png": "[encoded data removed]",
      "text/plain": [
       "<Figure size 640x480 with 1 Axes>"
      ]
     },
     "metadata": {},
     "output_type": "display_data"
    }
   ],
   "source": [
    "draw(train_data, 0)"
   ]
  },
  {
   "cell_type": "code",
   "execution_count": 15,
   "metadata": {},
   "outputs": [
    {
     "data": {
      "image/png": "[encoded data removed]",
      "text/plain": [
       "<Figure size 640x480 with 1 Axes>"
      ]
     },
     "metadata": {},
     "output_type": "display_data"
    }
   ],
   "source": [
    "draw(train_data, 1)"
   ]
  },
  {
   "attachments": {},
   "cell_type": "markdown",
   "metadata": {},
   "source": [
    "Create batched data loaders for the training and the testing datasets   "
   ]
  },
  {
   "cell_type": "code",
   "execution_count": 16,
   "metadata": {},
   "outputs": [
    {
     "name": "stdout",
     "output_type": "stream",
     "text": [
      "Shape of X [N, C, H, W]: torch.Size([64, 1, 28, 28])\n",
      "Shape of y: torch.Size([64]) torch.int64\n"
     ]
    }
   ],
   "source": [
    "batch_size = 64\n",
    "\n",
    "# Create data loaders.\n",
    "train_dataloader = DataLoader(train_data, batch_size=batch_size)\n",
    "test_dataloader = DataLoader(test_data, batch_size=batch_size)\n",
    "\n",
    "for X, y in test_dataloader:\n",
    "    print(f\"Shape of X [N, C, H, W]: {X.shape}\")\n",
    "    print(f\"Shape of y: {y.shape} {y.dtype}\")\n",
    "    break"
   ]
  },
  {
   "attachments": {},
   "cell_type": "markdown",
   "metadata": {},
   "source": [
    "Check if we have access to a GPU or just using our CPU"
   ]
  },
  {
   "cell_type": "code",
   "execution_count": 17,
   "metadata": {},
   "outputs": [
    {
     "name": "stdout",
     "output_type": "stream",
     "text": [
      "Using cpu device\n"
     ]
    }
   ],
   "source": [
    "device = 'cuda' if torch.cuda.is_available() else 'cpu'\n",
    "print(f'Using {device} device')"
   ]
  },
  {
   "attachments": {},
   "cell_type": "markdown",
   "metadata": {},
   "source": [
    "Let's create the neuran network with 784 (28x28) inputs, 2500 hidden neurons, and 10 output neurons"
   ]
  },
  {
   "cell_type": "code",
   "execution_count": 18,
   "metadata": {},
   "outputs": [
    {
     "ename": "ModuleNotFoundError",
     "evalue": "No module named 'mlpg'",
     "output_type": "error",
     "traceback": [
      "\u001b[0;31m---------------------------------------------------------------------------\u001b[0m",
      "\u001b[0;31mModuleNotFoundError\u001b[0m                       Traceback (most recent call last)",
      "Cell \u001b[0;32mIn[18], line 1\u001b[0m\n\u001b[0;32m----> 1\u001b[0m \u001b[39mfrom\u001b[39;00m \u001b[39mmlpg\u001b[39;00m\u001b[39m.\u001b[39;00m\u001b[39mmodels\u001b[39;00m\u001b[39m.\u001b[39;00m\u001b[39mmnist\u001b[39;00m \u001b[39mimport\u001b[39;00m MNISTModel, SDGOptimizer\n\u001b[1;32m      3\u001b[0m model \u001b[39m=\u001b[39m MNISTModel()\u001b[39m.\u001b[39mto(device)\n\u001b[1;32m      4\u001b[0m \u001b[39mprint\u001b[39m(model)\n",
      "\u001b[0;31mModuleNotFoundError\u001b[0m: No module named 'mlpg'"
     ]
    }
   ],
   "source": [
    "from model import MNISTModel, SDGOptimizer\n",
    "\n",
    "model = MNISTModel().to(device)\n",
    "print(model)"
   ]
  },
  {
   "attachments": {},
   "cell_type": "markdown",
   "metadata": {},
   "source": [
    "Let's define our loss function, which is the [CrossEntropyLoss](https://pytorch.org/docs/stable/generated/torch.nn.CrossEntropyLoss.html#torch.nn.CrossEntropyLoss) one, useful when classifying the dataset to N classes."
   ]
  },
  {
   "cell_type": "code",
   "execution_count": null,
   "metadata": {},
   "outputs": [],
   "source": [
    "loss_fn = nn.CrossEntropyLoss()"
   ]
  },
  {
   "attachments": {},
   "cell_type": "markdown",
   "metadata": {},
   "source": [
    "Let's define now the optimizer, which implement a stochastic gradient descent, with learning rate of 0.001."
   ]
  },
  {
   "cell_type": "code",
   "execution_count": null,
   "metadata": {},
   "outputs": [
    {
     "data": {
      "text/plain": [
       "torch.nn.parameter.Parameter"
      ]
     },
     "execution_count": 11,
     "metadata": {},
     "output_type": "execute_result"
    }
   ],
   "source": [
    "optimizer = SDGOptimizer(model.parameters(), lr=1e-3)"
   ]
  },
  {
   "attachments": {},
   "cell_type": "markdown",
   "metadata": {},
   "source": [
    "Training logic, which perform the forward pass and the backward pass"
   ]
  },
  {
   "cell_type": "code",
   "execution_count": null,
   "metadata": {},
   "outputs": [
    {
     "name": "stdout",
     "output_type": "stream",
     "text": [
      "Epoch 1\n",
      "-------------------------------\n",
      "loss: 2.302322  [    0/60000]\n",
      "loss: 2.307468  [ 6400/60000]\n",
      "loss: 2.299861  [12800/60000]\n",
      "loss: 2.313809  [19200/60000]\n",
      "loss: 2.295128  [25600/60000]\n",
      "loss: 2.295308  [32000/60000]\n",
      "loss: 2.301622  [38400/60000]\n",
      "loss: 2.310034  [44800/60000]\n",
      "loss: 2.305254  [51200/60000]\n",
      "loss: 2.309676  [57600/60000]\n",
      "Test Error: \n",
      " Accuracy: 7.3%, Avg loss: 2.303808 \n",
      "\n",
      "Epoch 2\n",
      "-------------------------------\n",
      "loss: 2.302322  [    0/60000]\n",
      "loss: 2.307468  [ 6400/60000]\n",
      "loss: 2.299861  [12800/60000]\n",
      "loss: 2.313809  [19200/60000]\n",
      "loss: 2.295128  [25600/60000]\n",
      "loss: 2.295308  [32000/60000]\n",
      "loss: 2.301622  [38400/60000]\n",
      "loss: 2.310034  [44800/60000]\n",
      "loss: 2.305254  [51200/60000]\n",
      "loss: 2.309676  [57600/60000]\n",
      "Test Error: \n",
      " Accuracy: 7.3%, Avg loss: 2.303808 \n",
      "\n",
      "Epoch 3\n",
      "-------------------------------\n",
      "loss: 2.302322  [    0/60000]\n",
      "loss: 2.307468  [ 6400/60000]\n",
      "loss: 2.299861  [12800/60000]\n",
      "loss: 2.313809  [19200/60000]\n",
      "loss: 2.295128  [25600/60000]\n",
      "loss: 2.295308  [32000/60000]\n",
      "loss: 2.301622  [38400/60000]\n",
      "loss: 2.310034  [44800/60000]\n",
      "loss: 2.305254  [51200/60000]\n",
      "loss: 2.309676  [57600/60000]\n",
      "Test Error: \n",
      " Accuracy: 7.3%, Avg loss: 2.303808 \n",
      "\n",
      "Epoch 4\n",
      "-------------------------------\n",
      "loss: 2.302322  [    0/60000]\n",
      "loss: 2.307468  [ 6400/60000]\n",
      "loss: 2.299861  [12800/60000]\n",
      "loss: 2.313809  [19200/60000]\n",
      "loss: 2.295128  [25600/60000]\n",
      "loss: 2.295308  [32000/60000]\n",
      "loss: 2.301622  [38400/60000]\n",
      "loss: 2.310034  [44800/60000]\n",
      "loss: 2.305254  [51200/60000]\n",
      "loss: 2.309676  [57600/60000]\n",
      "Test Error: \n",
      " Accuracy: 7.3%, Avg loss: 2.303808 \n",
      "\n",
      "Epoch 5\n",
      "-------------------------------\n",
      "loss: 2.302322  [    0/60000]\n",
      "loss: 2.307468  [ 6400/60000]\n",
      "loss: 2.299861  [12800/60000]\n",
      "loss: 2.313809  [19200/60000]\n",
      "loss: 2.295128  [25600/60000]\n",
      "loss: 2.295308  [32000/60000]\n",
      "loss: 2.301622  [38400/60000]\n",
      "loss: 2.310034  [44800/60000]\n",
      "loss: 2.305254  [51200/60000]\n",
      "loss: 2.309676  [57600/60000]\n",
      "Test Error: \n",
      " Accuracy: 7.3%, Avg loss: 2.303808 \n",
      "\n",
      "Epoch 6\n",
      "-------------------------------\n",
      "loss: 2.302322  [    0/60000]\n",
      "loss: 2.307468  [ 6400/60000]\n",
      "loss: 2.299861  [12800/60000]\n",
      "loss: 2.313809  [19200/60000]\n",
      "loss: 2.295128  [25600/60000]\n",
      "loss: 2.295308  [32000/60000]\n",
      "loss: 2.301622  [38400/60000]\n",
      "loss: 2.310034  [44800/60000]\n",
      "loss: 2.305254  [51200/60000]\n",
      "loss: 2.309676  [57600/60000]\n",
      "Test Error: \n",
      " Accuracy: 7.3%, Avg loss: 2.303808 \n",
      "\n",
      "Epoch 7\n",
      "-------------------------------\n",
      "loss: 2.302322  [    0/60000]\n"
     ]
    }
   ],
   "source": [
    "epochs = 8\n",
    "train_size = len(train_dataloader.dataset)\n",
    "test_size = len(train_dataloader.dataset)\n",
    "for t in range(epochs):\n",
    "    print(f'Epoch {t+1}\\n-------------------------------')\n",
    "    for batch, (loss, X, y, pred) in enumerate(model.train_gen(train_dataloader, loss_fn, optimizer)):\n",
    "        if batch % 100 == 0:\n",
    "            loss, current = loss.item(), batch * batch_size\n",
    "            print(f'loss: {loss:>7f}  [{current:>5d}/{train_size:>5d}]')\n",
    "    test_loss, correct = model.test_gen(test_dataloader, loss_fn)\n",
    "    print(f'Test Error: \\n Accuracy: {(100*correct):>0.1f}%, Avg loss: {test_loss:>8f} \\n')\n",
    "print('Done!')"
   ]
  },
  {
   "cell_type": "code",
   "execution_count": null,
   "metadata": {},
   "outputs": [],
   "source": [
    "torch.save(model.state_dict(), 'model.pth')\n",
    "print('Saved PyTorch Model State to model.pth')"
   ]
  },
  {
   "attachments": {},
   "cell_type": "markdown",
   "metadata": {},
   "source": [
    "Loading pre-trained models"
   ]
  },
  {
   "cell_type": "code",
   "execution_count": null,
   "metadata": {},
   "outputs": [],
   "source": [
    "model = MNISTModel().to(device)\n",
    "model.load_state_dict(torch.load('model.pth'))"
   ]
  },
  {
   "cell_type": "code",
   "execution_count": null,
   "metadata": {},
   "outputs": [],
   "source": [
    "def eval_image(model: nn.Module, X: torch.Tensor):\n",
    "    model.eval()\n",
    "    with torch.no_grad():\n",
    "        X = X.to(device)\n",
    "        pred = model(X)\n",
    "        return pred.argmax(1).item()"
   ]
  },
  {
   "cell_type": "code",
   "execution_count": null,
   "metadata": {},
   "outputs": [],
   "source": [
    "test_features, test_labels = next(iter(test_dataloader))\n",
    "\n",
    "eval_image(model, test_features[0])\n"
   ]
  },
  {
   "cell_type": "code",
   "execution_count": null,
   "metadata": {},
   "outputs": [],
   "source": [
    "draw(test_data, 0)"
   ]
  }
 ],
 "metadata": {
  "kernelspec": {
   "display_name": "venv",
   "language": "python",
   "name": "python3"
  },
  "language_info": {
   "codemirror_mode": {
    "name": "ipython",
    "version": 3
   },
   "file_extension": ".py",
   "mimetype": "text/x-python",
   "name": "python",
   "nbconvert_exporter": "python",
   "pygments_lexer": "ipython3",
   "version": "3.10.6"
  },
  "orig_nbformat": 4,
  "vscode": {
   "interpreter": {
    "hash": "c41db41216c4521c9cb249a5fb688dd4b643ff343d37eece49b5fbb0f0d24eb9"
   }
  }
 },
 "nbformat": 4,
 "nbformat_minor": 2
}
