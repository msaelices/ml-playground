{
 "cells": [
  {
   "attachments": {},
   "cell_type": "markdown",
   "metadata": {},
   "source": [
    "## MNIST dataset processed with a Visual Transformer (not good results for small datasets)"
   ]
  },
  {
   "cell_type": "code",
   "execution_count": 4,
   "metadata": {},
   "outputs": [],
   "source": [
    "import sys\n",
    "sys.path.append('../')  # to be able to import the MNIST model"
   ]
  },
  {
   "cell_type": "code",
   "execution_count": 5,
   "metadata": {},
   "outputs": [],
   "source": [
    "import torch\n",
    "import torch.nn as nn\n",
    "import torch.nn.functional as F\n",
    "from torch.utils.data import Dataset, DataLoader\n",
    "\n",
    "from torchvision import datasets, transforms, models\n",
    "\n",
    "import numpy as np\n",
    "import matplotlib.pyplot as plt"
   ]
  },
  {
   "cell_type": "code",
   "execution_count": 6,
   "metadata": {},
   "outputs": [
    {
     "name": "stdout",
     "output_type": "stream",
     "text": [
      "cuda\n"
     ]
    }
   ],
   "source": [
    "device = torch.device('cuda' if torch.cuda.is_available() else 'cpu')\n",
    "print(device)"
   ]
  },
  {
   "attachments": {},
   "cell_type": "markdown",
   "metadata": {},
   "source": [
    "Reset the random seed to get deterministic results "
   ]
  },
  {
   "cell_type": "code",
   "execution_count": 7,
   "metadata": {},
   "outputs": [],
   "source": [
    "torch.manual_seed(0)\n",
    "np.random.seed(0)"
   ]
  },
  {
   "cell_type": "code",
   "execution_count": 8,
   "metadata": {},
   "outputs": [],
   "source": [
    "BATCH_SIZE = 64\n",
    "LR = 5e-5\n",
    "NUM_EPOCHES = 25"
   ]
  },
  {
   "cell_type": "markdown",
   "metadata": {},
   "source": [
    "## Preprocessing"
   ]
  },
  {
   "cell_type": "code",
   "execution_count": 9,
   "metadata": {},
   "outputs": [],
   "source": [
    "mean, std = (0.5,), (0.5,)\n",
    "\n",
    "transform = transforms.Compose([\n",
    "  transforms.ToTensor(),\n",
    "  transforms.Normalize(mean, std)\n",
    "])"
   ]
  },
  {
   "cell_type": "code",
   "execution_count": 10,
   "metadata": {},
   "outputs": [],
   "source": [
    "train_data = datasets.MNIST('../data/', download=True, train=True, transform=transform)\n",
    "train_dataloader = torch.utils.data.DataLoader(train_data, batch_size=BATCH_SIZE, shuffle=True)\n",
    "\n",
    "test_data = datasets.MNIST('../data/', download=True, train=False, transform=transform)\n",
    "test_dataloader = torch.utils.data.DataLoader(test_data, batch_size=BATCH_SIZE, shuffle=False)"
   ]
  },
  {
   "cell_type": "code",
   "execution_count": 11,
   "metadata": {},
   "outputs": [],
   "source": [
    "def draw(dataset, idx: int) -> None:\n",
    "    plt.title(f'label: {dataset.targets[idx].item()}')\n",
    "    plt.imshow(dataset.data[idx].int())"
   ]
  },
  {
   "cell_type": "code",
   "execution_count": 12,
   "metadata": {},
   "outputs": [
    {
     "data": {
      "image/png": "[encoded data removed]",
      "text/plain": [
       "<Figure size 640x480 with 1 Axes>"
      ]
     },
     "metadata": {},
     "output_type": "display_data"
    }
   ],
   "source": [
    "draw(train_data, 0)"
   ]
  },
  {
   "cell_type": "markdown",
   "metadata": {},
   "source": [
    "## Model"
   ]
  },
  {
   "cell_type": "code",
   "execution_count": 13,
   "metadata": {},
   "outputs": [],
   "source": [
    "from models import MNISTViTModel"
   ]
  },
  {
   "cell_type": "code",
   "execution_count": 14,
   "metadata": {},
   "outputs": [
    {
     "data": {
      "text/plain": [
       "MNISTViTModel(\n",
       "  (to_patch_embedding): Sequential(\n",
       "    (0): Rearrange('b c (h p1) (w p2) -> b (h w) (p1 p2 c)', p1=7, p2=7)\n",
       "    (1): Linear(in_features=49, out_features=256, bias=True)\n",
       "  )\n",
       "  (dropout): Dropout(p=0.0, inplace=False)\n",
       "  (transformer): Transformer(\n",
       "    (layers): ModuleList(\n",
       "      (0): ModuleList(\n",
       "        (0): PreNorm(\n",
       "          (norm): LayerNorm((256,), eps=1e-05, elementwise_affine=True)\n",
       "          (fn): Attention(\n",
       "            (attend): Softmax(dim=-1)\n",
       "            (dropout): Dropout(p=0.2, inplace=False)\n",
       "            (to_qkv): Linear(in_features=256, out_features=1536, bias=False)\n",
       "            (to_out): Sequential(\n",
       "              (0): Linear(in_features=512, out_features=256, bias=True)\n",
       "              (1): Dropout(p=0.2, inplace=False)\n",
       "            )\n",
       "          )\n",
       "        )\n",
       "        (1): PreNorm(\n",
       "          (norm): LayerNorm((256,), eps=1e-05, elementwise_affine=True)\n",
       "          (fn): FeedForward(\n",
       "            (net): Sequential(\n",
       "              (0): Linear(in_features=256, out_features=1024, bias=True)\n",
       "              (1): GELU(approximate='none')\n",
       "              (2): Dropout(p=0.2, inplace=False)\n",
       "              (3): Linear(in_features=1024, out_features=256, bias=True)\n",
       "              (4): Dropout(p=0.2, inplace=False)\n",
       "            )\n",
       "          )\n",
       "        )\n",
       "      )\n",
       "      (1): ModuleList(\n",
       "        (0): PreNorm(\n",
       "          (norm): LayerNorm((256,), eps=1e-05, elementwise_affine=True)\n",
       "          (fn): Attention(\n",
       "            (attend): Softmax(dim=-1)\n",
       "            (dropout): Dropout(p=0.2, inplace=False)\n",
       "            (to_qkv): Linear(in_features=256, out_features=1536, bias=False)\n",
       "            (to_out): Sequential(\n",
       "              (0): Linear(in_features=512, out_features=256, bias=True)\n",
       "              (1): Dropout(p=0.2, inplace=False)\n",
       "            )\n",
       "          )\n",
       "        )\n",
       "        (1): PreNorm(\n",
       "          (norm): LayerNorm((256,), eps=1e-05, elementwise_affine=True)\n",
       "          (fn): FeedForward(\n",
       "            (net): Sequential(\n",
       "              (0): Linear(in_features=256, out_features=1024, bias=True)\n",
       "              (1): GELU(approximate='none')\n",
       "              (2): Dropout(p=0.2, inplace=False)\n",
       "              (3): Linear(in_features=1024, out_features=256, bias=True)\n",
       "              (4): Dropout(p=0.2, inplace=False)\n",
       "            )\n",
       "          )\n",
       "        )\n",
       "      )\n",
       "      (2): ModuleList(\n",
       "        (0): PreNorm(\n",
       "          (norm): LayerNorm((256,), eps=1e-05, elementwise_affine=True)\n",
       "          (fn): Attention(\n",
       "            (attend): Softmax(dim=-1)\n",
       "            (dropout): Dropout(p=0.2, inplace=False)\n",
       "            (to_qkv): Linear(in_features=256, out_features=1536, bias=False)\n",
       "            (to_out): Sequential(\n",
       "              (0): Linear(in_features=512, out_features=256, bias=True)\n",
       "              (1): Dropout(p=0.2, inplace=False)\n",
       "            )\n",
       "          )\n",
       "        )\n",
       "        (1): PreNorm(\n",
       "          (norm): LayerNorm((256,), eps=1e-05, elementwise_affine=True)\n",
       "          (fn): FeedForward(\n",
       "            (net): Sequential(\n",
       "              (0): Linear(in_features=256, out_features=1024, bias=True)\n",
       "              (1): GELU(approximate='none')\n",
       "              (2): Dropout(p=0.2, inplace=False)\n",
       "              (3): Linear(in_features=1024, out_features=256, bias=True)\n",
       "              (4): Dropout(p=0.2, inplace=False)\n",
       "            )\n",
       "          )\n",
       "        )\n",
       "      )\n",
       "    )\n",
       "  )\n",
       "  (to_latent): Identity()\n",
       "  (mlp_head): Sequential(\n",
       "    (0): LayerNorm((256,), eps=1e-05, elementwise_affine=True)\n",
       "    (1): Linear(in_features=256, out_features=10, bias=True)\n",
       "  )\n",
       ")"
      ]
     },
     "execution_count": 14,
     "metadata": {},
     "output_type": "execute_result"
    }
   ],
   "source": [
    "model = MNISTViTModel().to(device)\n",
    "model"
   ]
  },
  {
   "cell_type": "code",
   "execution_count": 15,
   "metadata": {},
   "outputs": [
    {
     "name": "stdout",
     "output_type": "stream",
     "text": [
      "Batch Image Dimensions: torch.Size([64, 1, 28, 28])\n",
      "Labels Dimensions: torch.Size([64])\n",
      "----------------------------------------------------------------------------------------------------\n",
      "Output Dimensions: torch.Size([64, 10])\n",
      "Out: tensor([0.5655, 0.3004, 0.7868, 0.7438, 0.8608, 0.7051, 1.3010, 0.5096, 0.3076,\n",
      "        0.2308], device='cuda:0', grad_fn=<SelectBackward0>)\n"
     ]
    }
   ],
   "source": [
    "for batch, labels in train_dataloader:\n",
    "    batch = batch.to(device)\n",
    "    labels = labels.to(device)\n",
    "    \n",
    "    print(f'Batch Image Dimensions: {batch.size()}')\n",
    "    print(f'Labels Dimensions: {labels.size()}')\n",
    "    print('-'*100)\n",
    "    \n",
    "    out = model(batch)\n",
    "    \n",
    "    print(f'Output Dimensions: {out.size()}')\n",
    "    print(f'Out: {out[0]}')\n",
    "    break"
   ]
  },
  {
   "cell_type": "code",
   "execution_count": 16,
   "metadata": {},
   "outputs": [],
   "source": [
    "criterion = nn.NLLLoss()\n",
    "optimizer = torch.optim.Adam(params=model.parameters(), lr=LR)"
   ]
  },
  {
   "cell_type": "code",
   "execution_count": 17,
   "metadata": {},
   "outputs": [
    {
     "name": "stdout",
     "output_type": "stream",
     "text": [
      "-------------------------------------------------\n",
      "Epoch: 1 Train mean loss: -10241.10195428\n",
      "       Train Accuracy%:  72.93666666666667 == 43762 / 60000\n",
      "-------------------------------------------------\n",
      "-------------------------------------------------\n",
      "Epoch: 2 Train mean loss: -23396.11166382\n",
      "       Train Accuracy%:  91.945 == 55167 / 60000\n",
      "-------------------------------------------------\n",
      "-------------------------------------------------\n",
      "Epoch: 3 Train mean loss: -38637.12664604\n",
      "       Train Accuracy%:  93.53166666666667 == 56119 / 60000\n",
      "-------------------------------------------------\n",
      "-------------------------------------------------\n",
      "Epoch: 4 Train mean loss: -56368.68750000\n",
      "       Train Accuracy%:  94.62 == 56772 / 60000\n",
      "-------------------------------------------------\n",
      "-------------------------------------------------\n",
      "Epoch: 5 Train mean loss: -76115.01230621\n",
      "       Train Accuracy%:  95.03833333333333 == 57023 / 60000\n",
      "-------------------------------------------------\n",
      "-------------------------------------------------\n",
      "Epoch: 6 Train mean loss: -97773.76506805\n",
      "       Train Accuracy%:  95.70833333333333 == 57425 / 60000\n",
      "-------------------------------------------------\n",
      "-------------------------------------------------\n",
      "Epoch: 7 Train mean loss: -121225.27176666\n",
      "       Train Accuracy%:  96.00666666666666 == 57604 / 60000\n",
      "-------------------------------------------------\n",
      "-------------------------------------------------\n",
      "Epoch: 8 Train mean loss: -146440.83708191\n",
      "       Train Accuracy%:  96.35833333333333 == 57815 / 60000\n",
      "-------------------------------------------------\n",
      "-------------------------------------------------\n",
      "Epoch: 9 Train mean loss: -173375.38661194\n",
      "       Train Accuracy%:  96.62666666666667 == 57976 / 60000\n",
      "-------------------------------------------------\n",
      "-------------------------------------------------\n",
      "Epoch: 10 Train mean loss: -202044.68215942\n",
      "       Train Accuracy%:  96.77833333333334 == 58067 / 60000\n",
      "-------------------------------------------------\n",
      "-------------------------------------------------\n",
      "Epoch: 11 Train mean loss: -232471.30294800\n",
      "       Train Accuracy%:  96.98833333333333 == 58193 / 60000\n",
      "-------------------------------------------------\n",
      "-------------------------------------------------\n",
      "Epoch: 12 Train mean loss: -264602.63500977\n",
      "       Train Accuracy%:  97.175 == 58305 / 60000\n",
      "-------------------------------------------------\n",
      "-------------------------------------------------\n",
      "Epoch: 13 Train mean loss: -298358.94564819\n",
      "       Train Accuracy%:  97.26666666666667 == 58360 / 60000\n",
      "-------------------------------------------------\n",
      "-------------------------------------------------\n",
      "Epoch: 14 Train mean loss: -333845.18380737\n",
      "       Train Accuracy%:  97.34833333333333 == 58409 / 60000\n",
      "-------------------------------------------------\n",
      "-------------------------------------------------\n",
      "Epoch: 15 Train mean loss: -370905.28833008\n",
      "       Train Accuracy%:  97.435 == 58461 / 60000\n",
      "-------------------------------------------------\n",
      "-------------------------------------------------\n",
      "Epoch: 16 Train mean loss: -409809.63107300\n",
      "       Train Accuracy%:  97.65166666666667 == 58591 / 60000\n",
      "-------------------------------------------------\n",
      "-------------------------------------------------\n",
      "Epoch: 17 Train mean loss: -450245.56805420\n",
      "       Train Accuracy%:  97.73833333333333 == 58643 / 60000\n",
      "-------------------------------------------------\n",
      "-------------------------------------------------\n",
      "Epoch: 18 Train mean loss: -492408.69534302\n",
      "       Train Accuracy%:  97.765 == 58659 / 60000\n",
      "-------------------------------------------------\n",
      "-------------------------------------------------\n",
      "Epoch: 19 Train mean loss: -536237.66790771\n",
      "       Train Accuracy%:  97.865 == 58719 / 60000\n",
      "-------------------------------------------------\n",
      "-------------------------------------------------\n",
      "Epoch: 20 Train mean loss: -581667.12677002\n",
      "       Train Accuracy%:  97.88666666666667 == 58732 / 60000\n",
      "-------------------------------------------------\n",
      "-------------------------------------------------\n",
      "Epoch: 21 Train mean loss: -628679.26831055\n",
      "       Train Accuracy%:  97.905 == 58743 / 60000\n",
      "-------------------------------------------------\n",
      "-------------------------------------------------\n",
      "Epoch: 22 Train mean loss: -677412.46606445\n",
      "       Train Accuracy%:  98.07833333333333 == 58847 / 60000\n",
      "-------------------------------------------------\n",
      "-------------------------------------------------\n",
      "Epoch: 23 Train mean loss: -727699.05761719\n",
      "       Train Accuracy%:  98.11333333333333 == 58868 / 60000\n",
      "-------------------------------------------------\n",
      "-------------------------------------------------\n",
      "Epoch: 24 Train mean loss: -779645.67376709\n",
      "       Train Accuracy%:  98.15666666666667 == 58894 / 60000\n",
      "-------------------------------------------------\n",
      "-------------------------------------------------\n",
      "Epoch: 25 Train mean loss: -833168.15234375\n",
      "       Train Accuracy%:  98.16833333333334 == 58901 / 60000\n",
      "-------------------------------------------------\n"
     ]
    }
   ],
   "source": [
    "loss_hist = {}\n",
    "loss_hist['train accuracy'] = []\n",
    "loss_hist['train loss'] = []\n",
    "\n",
    "for epoch in range(1, NUM_EPOCHES+1):\n",
    "    model.train()\n",
    "    \n",
    "    epoch_train_loss = 0\n",
    "        \n",
    "    y_true_train = []\n",
    "    y_pred_train = []\n",
    "        \n",
    "    for batch_idx, (img, labels) in enumerate(train_dataloader):\n",
    "        img = img.to(device)\n",
    "        labels = labels.to(device)\n",
    "        \n",
    "        preds = model(img)\n",
    "        \n",
    "        loss = criterion(preds, labels)\n",
    "        optimizer.zero_grad()\n",
    "        loss.backward()\n",
    "        optimizer.step()\n",
    "        \n",
    "        y_pred_train.extend(preds.detach().argmax(dim=-1).tolist())\n",
    "        y_true_train.extend(labels.detach().tolist())\n",
    "            \n",
    "        epoch_train_loss += loss.item()\n",
    "    \n",
    "    loss_hist['train loss'].append(epoch_train_loss)\n",
    "    \n",
    "    total_correct = len([True for x, y in zip(y_pred_train, y_true_train) if x==y])\n",
    "    total = len(y_pred_train)\n",
    "    accuracy = total_correct * 100 / total\n",
    "    \n",
    "    loss_hist['train accuracy'].append(accuracy)\n",
    "    \n",
    "    print('-------------------------------------------------')\n",
    "    print('Epoch: {} Train mean loss: {:.8f}'.format(epoch, epoch_train_loss))\n",
    "    print('       Train Accuracy%: ', accuracy, '==', total_correct, '/', total)\n",
    "    print('-------------------------------------------------')"
   ]
  },
  {
   "cell_type": "markdown",
   "metadata": {},
   "source": [
    "## Test"
   ]
  },
  {
   "cell_type": "code",
   "execution_count": 21,
   "metadata": {},
   "outputs": [
    {
     "data": {
      "image/png": "[encoded data removed]",
      "text/plain": [
       "<Figure size 640x480 with 1 Axes>"
      ]
     },
     "metadata": {},
     "output_type": "display_data"
    }
   ],
   "source": [
    "plt.plot(loss_hist['train accuracy'])\n",
    "plt.xlabel('Epoch')\n",
    "plt.ylabel('Loss')\n",
    "plt.show()"
   ]
  },
  {
   "cell_type": "code",
   "execution_count": 22,
   "metadata": {},
   "outputs": [
    {
     "data": {
      "image/png": "[encoded data removed]",
      "text/plain": [
       "<Figure size 640x480 with 1 Axes>"
      ]
     },
     "metadata": {},
     "output_type": "display_data"
    }
   ],
   "source": [
    "plt.plot(loss_hist['train loss'])\n",
    "plt.xlabel('Epoch')\n",
    "plt.ylabel('Loss')\n",
    "plt.show()"
   ]
  },
  {
   "cell_type": "code",
   "execution_count": 23,
   "metadata": {},
   "outputs": [
    {
     "ename": "NameError",
     "evalue": "name 'label' is not defined",
     "output_type": "error",
     "traceback": [
      "\u001b[0;31m---------------------------------------------------------------------------\u001b[0m",
      "\u001b[0;31mNameError\u001b[0m                                 Traceback (most recent call last)",
      "Cell \u001b[0;32mIn[23], line 9\u001b[0m\n\u001b[1;32m      7\u001b[0m \u001b[39mfor\u001b[39;00m batch_idx, (img, labels) \u001b[39min\u001b[39;00m \u001b[39menumerate\u001b[39m(test_dataloader):\n\u001b[1;32m      8\u001b[0m     img \u001b[39m=\u001b[39m img\u001b[39m.\u001b[39mto(device)\n\u001b[0;32m----> 9\u001b[0m     label \u001b[39m=\u001b[39m label\u001b[39m.\u001b[39mto(device)\n\u001b[1;32m     11\u001b[0m     preds \u001b[39m=\u001b[39m model(img)\n\u001b[1;32m     13\u001b[0m     y_pred_test\u001b[39m.\u001b[39mextend(preds\u001b[39m.\u001b[39mdetach()\u001b[39m.\u001b[39margmax(dim\u001b[39m=\u001b[39m\u001b[39m-\u001b[39m\u001b[39m1\u001b[39m)\u001b[39m.\u001b[39mtolist())\n",
      "\u001b[0;31mNameError\u001b[0m: name 'label' is not defined"
     ]
    }
   ],
   "source": [
    "with torch.no_grad():\n",
    "    model.eval()\n",
    "    \n",
    "    y_true_test = []\n",
    "    y_pred_test = []\n",
    "    \n",
    "    for batch_idx, (img, labels) in enumerate(test_dataloader):\n",
    "        img = img.to(device)\n",
    "        labels = labels.to(device)\n",
    "    \n",
    "        preds = model(img)\n",
    "        \n",
    "        y_pred_test.extend(preds.detach().argmax(dim=-1).tolist())\n",
    "        y_true_test.extend(labels.detach().tolist())\n",
    "        \n",
    "    total_correct = len([True for x, y in zip(y_pred_test, y_true_test) if x==y])\n",
    "    total = len(y_pred_test)\n",
    "    accuracy = total_correct * 100 / total\n",
    "    \n",
    "    print('Test Accuracy%: ', accuracy, '==', total_correct, '/', total)"
   ]
  },
  {
   "cell_type": "code",
   "execution_count": null,
   "metadata": {},
   "outputs": [],
   "source": [
    "def eval_image(model: nn.Module, X: torch.Tensor):\n",
    "    model.eval()\n",
    "    with torch.no_grad():\n",
    "        X = X.to(device)\n",
    "        pred = model(X)\n",
    "        return pred[0].argmax(0).item()\n"
   ]
  },
  {
   "cell_type": "code",
   "execution_count": null,
   "metadata": {},
   "outputs": [],
   "source": [
    "test_features, test_labels = next(iter(test_dataloader))\n",
    "\n",
    "eval_image(model, test_features)"
   ]
  },
  {
   "cell_type": "code",
   "execution_count": null,
   "metadata": {},
   "outputs": [],
   "source": [
    "draw(test_data, 0)"
   ]
  },
  {
   "cell_type": "code",
   "execution_count": null,
   "metadata": {},
   "outputs": [],
   "source": [
    "torch.save(model.state_dict(), '../model_vit.pth')\n",
    "print('Saved PyTorch Model State to model_vit.pth')"
   ]
  }
 ],
 "metadata": {
  "kernelspec": {
   "display_name": "venv",
   "language": "python",
   "name": "python3"
  },
  "language_info": {
   "codemirror_mode": {
    "name": "ipython",
    "version": 3
   },
   "file_extension": ".py",
   "mimetype": "text/x-python",
   "name": "python",
   "nbconvert_exporter": "python",
   "pygments_lexer": "ipython3",
   "version": "3.10.6"
  },
  "vscode": {
   "interpreter": {
    "hash": "c41db41216c4521c9cb249a5fb688dd4b643ff343d37eece49b5fbb0f0d24eb9"
   }
  }
 },
 "nbformat": 4,
 "nbformat_minor": 4
}
